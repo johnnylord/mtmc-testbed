{
 "cells": [
  {
   "cell_type": "markdown",
   "metadata": {},
   "source": [
    "# Camera Calibration\n",
    "\n",
    "In multiple camera tracking with overlapping view, we can utilize information from different camera to facilitate tracking algorithm.\n",
    "\n",
    "![](imgs/mtmc.png)\n",
    "\n",
    "However, to make use of these multi-view information, we need to first calibrate cameras so that they are in the same domain, which means that they are in the same coordinate system.\n",
    "\n",
    "![](imgs/fusion.png)"
   ]
  },
  {
   "cell_type": "markdown",
   "metadata": {},
   "source": [
    "## Camera projection\n",
    "\n",
    "When we shoot a picture of object, the camera will project this object from world domain (3D space) to pixel domain (2D space). Although there are multiple stages in this domain transformation, all the processing in each stage is a linear operation. Therefore, you can see the mapping process as a simple linear transformation.\n",
    "\n",
    "![](imgs/coords.png)"
   ]
  },
  {
   "cell_type": "markdown",
   "metadata": {},
   "source": [
    "## Intrinsic & Extrinsic parameters of camera\n",
    "\n",
    "![](imgs/intext.png)"
   ]
  },
  {
   "cell_type": "markdown",
   "metadata": {},
   "source": [
    "## Planar projection (Homography Transform)\n",
    "\n",
    "In camera projection, we are trying to map 3D object into 2D object. In planar projection, we are trying to map 2D object into 2D object with different cooridnate system.\n",
    "\n",
    "![](imgs/homography.png)"
   ]
  },
  {
   "cell_type": "markdown",
   "metadata": {},
   "source": [
    "## Construct homography matrix\n",
    "\n",
    "There are two ways you can used to construct the homography matrix:\n",
    "1. If you have intrinsic and extrinsic parameters of camera, then you can directly form the homography matrix\n",
    "2. Given a reference object with four points at its corner, you can infer the homography matrix\n",
    "\n",
    "In our tracking scenario with aist dance dataset...\n",
    "![](imgs/aist.png)\n",
    "\n",
    "**It seems that we don't have much information to reconstruct the homography matrix. CALL FOR HELP!!!**"
   ]
  },
  {
   "cell_type": "markdown",
   "metadata": {},
   "source": [
    "## Homography for Mosaicing\n",
    "\n",
    "![](imgs/mosaic.png)"
   ]
  }
 ],
 "metadata": {
  "hide_input": false,
  "kernelspec": {
   "display_name": "Python 3",
   "language": "python",
   "name": "python3"
  },
  "language_info": {
   "codemirror_mode": {
    "name": "ipython",
    "version": 3
   },
   "file_extension": ".py",
   "mimetype": "text/x-python",
   "name": "python",
   "nbconvert_exporter": "python",
   "pygments_lexer": "ipython3",
   "version": "3.7.1"
  },
  "toc": {
   "base_numbering": 1,
   "nav_menu": {},
   "number_sections": true,
   "sideBar": true,
   "skip_h1_title": false,
   "title_cell": "Table of Contents",
   "title_sidebar": "Contents",
   "toc_cell": false,
   "toc_position": {},
   "toc_section_display": true,
   "toc_window_display": false
  },
  "varInspector": {
   "cols": {
    "lenName": 16,
    "lenType": 16,
    "lenVar": 40
   },
   "kernels_config": {
    "python": {
     "delete_cmd_postfix": "",
     "delete_cmd_prefix": "del ",
     "library": "var_list.py",
     "varRefreshCmd": "print(var_dic_list())"
    },
    "r": {
     "delete_cmd_postfix": ") ",
     "delete_cmd_prefix": "rm(",
     "library": "var_list.r",
     "varRefreshCmd": "cat(var_dic_list()) "
    }
   },
   "types_to_exclude": [
    "module",
    "function",
    "builtin_function_or_method",
    "instance",
    "_Feature"
   ],
   "window_display": false
  }
 },
 "nbformat": 4,
 "nbformat_minor": 4
}
