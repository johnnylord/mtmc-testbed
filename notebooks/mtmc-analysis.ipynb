{
 "cells": [
  {
   "cell_type": "markdown",
   "metadata": {},
   "source": [
    "# MTMC Analysis\n",
    "\n",
    "ReID features is very important for tracking, as the association operation "
   ]
  },
  {
   "cell_type": "code",
   "execution_count": 1,
   "metadata": {
    "hide_input": false
   },
   "outputs": [],
   "source": [
    "# Modify sys paths for importing development module\n",
    "import os\n",
    "import os.path as osp\n",
    "import sys\n",
    "sys.path.insert(0, osp.dirname(osp.abspath(\".\")))\n",
    "\n",
    "# Import necessary modules\n"
   ]
  },
  {
   "cell_type": "markdown",
   "metadata": {},
   "source": [
    "## Read profiles"
   ]
  },
  {
   "cell_type": "code",
   "execution_count": 2,
   "metadata": {},
   "outputs": [],
   "source": [
    "def read_profile(fname):\n",
    "    \"\"\"Return the profile result of dict type\n",
    "    \n",
    "    Format:\n",
    "        <frame_id>,<track_id>,<tl_x>,<tl_y>,<br_x>,<br_y>\n",
    "    \"\"\"\n",
    "    profile = {}\n",
    "    \n",
    "    with open(fname, \"r\") as f:\n",
    "        content = f.read()\n",
    "        lines = [ line for line in content.split(\"\\n\") if len(line) > 0]\n",
    "        \n",
    "        for line in lines:\n",
    "            fields = [ float(field) for field in line.split(\",\") ]\n",
    "            if int(fields[0]) not in profile:\n",
    "                profile[int(fields[0])] = []\n",
    "            profile[int(fields[0])].append(tuple(fields[2:]))\n",
    "    \n",
    "    return profile"
   ]
  },
  {
   "cell_type": "code",
   "execution_count": 3,
   "metadata": {},
   "outputs": [
    {
     "ename": "FileNotFoundError",
     "evalue": "[Errno 2] No such file or directory: '../result/DetApp/'",
     "output_type": "error",
     "traceback": [
      "\u001b[0;31m---------------------------------------------------------------------------\u001b[0m",
      "\u001b[0;31mFileNotFoundError\u001b[0m                         Traceback (most recent call last)",
      "\u001b[0;32m<ipython-input-3-e8df256bf97b>\u001b[0m in \u001b[0;36m<module>\u001b[0;34m\u001b[0m\n\u001b[1;32m      2\u001b[0m \u001b[0;34m\u001b[0m\u001b[0m\n\u001b[1;32m      3\u001b[0m \u001b[0;31m# Read tracking profile\u001b[0m\u001b[0;34m\u001b[0m\u001b[0;34m\u001b[0m\u001b[0;34m\u001b[0m\u001b[0m\n\u001b[0;32m----> 4\u001b[0;31m \u001b[0mpfiles\u001b[0m \u001b[0;34m=\u001b[0m \u001b[0;34m[\u001b[0m \u001b[0mosp\u001b[0m\u001b[0;34m.\u001b[0m\u001b[0mjoin\u001b[0m\u001b[0;34m(\u001b[0m\u001b[0mPROFILE_DIR\u001b[0m\u001b[0;34m,\u001b[0m \u001b[0mf\u001b[0m\u001b[0;34m)\u001b[0m \u001b[0;32mfor\u001b[0m \u001b[0mf\u001b[0m \u001b[0;32min\u001b[0m \u001b[0mos\u001b[0m\u001b[0;34m.\u001b[0m\u001b[0mlistdir\u001b[0m\u001b[0;34m(\u001b[0m\u001b[0mPROFILE_DIR\u001b[0m\u001b[0;34m)\u001b[0m \u001b[0;32mif\u001b[0m \u001b[0mf\u001b[0m\u001b[0;34m.\u001b[0m\u001b[0mendswith\u001b[0m\u001b[0;34m(\u001b[0m\u001b[0;34m\".txt\"\u001b[0m\u001b[0;34m)\u001b[0m \u001b[0;34m]\u001b[0m\u001b[0;34m\u001b[0m\u001b[0;34m\u001b[0m\u001b[0m\n\u001b[0m\u001b[1;32m      5\u001b[0m \u001b[0mprofiles\u001b[0m \u001b[0;34m=\u001b[0m \u001b[0mdict\u001b[0m\u001b[0;34m(\u001b[0m\u001b[0;34m[\u001b[0m \u001b[0;34m(\u001b[0m\u001b[0mpfile\u001b[0m\u001b[0;34m,\u001b[0m \u001b[0;34m{\u001b[0m \u001b[0;34m'profile'\u001b[0m\u001b[0;34m:\u001b[0m \u001b[0mread_profile\u001b[0m\u001b[0;34m(\u001b[0m\u001b[0mpfile\u001b[0m\u001b[0;34m)\u001b[0m \u001b[0;34m}\u001b[0m\u001b[0;34m)\u001b[0m \u001b[0;32mfor\u001b[0m \u001b[0mpfile\u001b[0m \u001b[0;32min\u001b[0m \u001b[0mpfiles\u001b[0m \u001b[0;34m]\u001b[0m\u001b[0;34m)\u001b[0m\u001b[0;34m\u001b[0m\u001b[0;34m\u001b[0m\u001b[0m\n\u001b[1;32m      6\u001b[0m \u001b[0;34m\u001b[0m\u001b[0m\n",
      "\u001b[0;31mFileNotFoundError\u001b[0m: [Errno 2] No such file or directory: '../result/DetApp/'"
     ]
    }
   ],
   "source": [
    "PROFILE_DIR = \"../result/MTMCApp/\"\n",
    "\n",
    "# Read tracking profile\n",
    "pfiles = [ osp.join(PROFILE_DIR, f) for f in os.listdir(PROFILE_DIR) if f.endswith(\".txt\") ]\n",
    "profiles = dict([ (pfile, { 'profile': read_profile(pfile) }) for pfile in pfiles ])\n",
    "\n",
    "print(\"Number of profiles:\", len(profiles))\n",
    "for pfile in profiles.keys():\n",
    "    print(\"-\", pfile)"
   ]
  },
  {
   "cell_type": "markdown",
   "metadata": {},
   "source": [
    "## Combine video reader with profile"
   ]
  },
  {
   "cell_type": "code",
   "execution_count": null,
   "metadata": {},
   "outputs": [],
   "source": [
    "import cv2\n",
    "import numpy as np\n",
    "import seaborn as sns\n",
    "import matplotlib.pyplot as plt\n",
    "plt.style.use('seaborn')\n",
    "%matplotlib inline"
   ]
  },
  {
   "cell_type": "code",
   "execution_count": null,
   "metadata": {},
   "outputs": [],
   "source": [
    "# Combine video reader\n",
    "for pfile in profiles.keys():\n",
    "    vfile = osp.join(PROFILE_DIR, osp.basename(pfile).rstrip(\".txt\"))\n",
    "    cap = cv2.VideoCapture(vfile)\n",
    "    profiles[pfile]['capture'] = cap"
   ]
  },
  {
   "cell_type": "markdown",
   "metadata": {},
   "source": [
    "## Plot histogram diagram of detection distribution"
   ]
  },
  {
   "cell_type": "code",
   "execution_count": 4,
   "metadata": {},
   "outputs": [
    {
     "ename": "NameError",
     "evalue": "name 'plt' is not defined",
     "output_type": "error",
     "traceback": [
      "\u001b[0;31m---------------------------------------------------------------------------\u001b[0m",
      "\u001b[0;31mNameError\u001b[0m                                 Traceback (most recent call last)",
      "\u001b[0;32m<ipython-input-4-c245c0e314c3>\u001b[0m in \u001b[0;36m<module>\u001b[0;34m\u001b[0m\n\u001b[0;32m----> 1\u001b[0;31m \u001b[0mfig\u001b[0m\u001b[0;34m,\u001b[0m \u001b[0maxes\u001b[0m \u001b[0;34m=\u001b[0m \u001b[0mplt\u001b[0m\u001b[0;34m.\u001b[0m\u001b[0msubplots\u001b[0m\u001b[0;34m(\u001b[0m\u001b[0mnrows\u001b[0m\u001b[0;34m=\u001b[0m\u001b[0mlen\u001b[0m\u001b[0;34m(\u001b[0m\u001b[0mprofiles\u001b[0m\u001b[0;34m)\u001b[0m\u001b[0;34m,\u001b[0m \u001b[0mncols\u001b[0m\u001b[0;34m=\u001b[0m\u001b[0;36m1\u001b[0m\u001b[0;34m,\u001b[0m \u001b[0mfigsize\u001b[0m\u001b[0;34m=\u001b[0m\u001b[0;34m(\u001b[0m\u001b[0;36m16\u001b[0m\u001b[0;34m,\u001b[0m \u001b[0;36m8\u001b[0m\u001b[0;34m)\u001b[0m\u001b[0;34m)\u001b[0m\u001b[0;34m\u001b[0m\u001b[0;34m\u001b[0m\u001b[0m\n\u001b[0m\u001b[1;32m      2\u001b[0m \u001b[0;34m\u001b[0m\u001b[0m\n\u001b[1;32m      3\u001b[0m \u001b[0;32mfor\u001b[0m \u001b[0midx\u001b[0m\u001b[0;34m,\u001b[0m \u001b[0;34m(\u001b[0m\u001b[0mpfile\u001b[0m\u001b[0;34m,\u001b[0m \u001b[0mresult\u001b[0m\u001b[0;34m)\u001b[0m \u001b[0;32min\u001b[0m \u001b[0menumerate\u001b[0m\u001b[0;34m(\u001b[0m\u001b[0mprofiles\u001b[0m\u001b[0;34m.\u001b[0m\u001b[0mitems\u001b[0m\u001b[0;34m(\u001b[0m\u001b[0;34m)\u001b[0m\u001b[0;34m)\u001b[0m\u001b[0;34m:\u001b[0m\u001b[0;34m\u001b[0m\u001b[0;34m\u001b[0m\u001b[0m\n\u001b[1;32m      4\u001b[0m     \u001b[0mpeoples\u001b[0m \u001b[0;34m=\u001b[0m \u001b[0;34m[\u001b[0m \u001b[0mlen\u001b[0m\u001b[0;34m(\u001b[0m\u001b[0mpeople\u001b[0m\u001b[0;34m)\u001b[0m \u001b[0;32mfor\u001b[0m \u001b[0mpeople\u001b[0m \u001b[0;32min\u001b[0m \u001b[0mresult\u001b[0m\u001b[0;34m[\u001b[0m\u001b[0;34m'profile'\u001b[0m\u001b[0;34m]\u001b[0m\u001b[0;34m.\u001b[0m\u001b[0mvalues\u001b[0m\u001b[0;34m(\u001b[0m\u001b[0;34m)\u001b[0m \u001b[0;34m]\u001b[0m\u001b[0;34m\u001b[0m\u001b[0;34m\u001b[0m\u001b[0m\n\u001b[1;32m      5\u001b[0m     \u001b[0mindices\u001b[0m \u001b[0;34m=\u001b[0m \u001b[0mnp\u001b[0m\u001b[0;34m.\u001b[0m\u001b[0marange\u001b[0m\u001b[0;34m(\u001b[0m\u001b[0mlen\u001b[0m\u001b[0;34m(\u001b[0m\u001b[0mpeoples\u001b[0m\u001b[0;34m)\u001b[0m\u001b[0;34m)\u001b[0m\u001b[0;34m\u001b[0m\u001b[0;34m\u001b[0m\u001b[0m\n",
      "\u001b[0;31mNameError\u001b[0m: name 'plt' is not defined"
     ]
    }
   ],
   "source": [
    "fig, axes = plt.subplots(nrows=len(profiles), ncols=1, figsize=(16, 8))\n",
    "\n",
    "for idx, (pfile, result) in enumerate(profiles.items()):\n",
    "    peoples = [ len(people) for people in result['profile'].values() ]\n",
    "    indices = np.arange(len(peoples))\n",
    "    axes[idx].bar(indices, peoples)\n",
    "    axes[idx].set_title(pfile)\n",
    "    \n",
    "plt.tight_layout()"
   ]
  },
  {
   "cell_type": "markdown",
   "metadata": {},
   "source": [
    "## Select Target Frame with same number of people"
   ]
  },
  {
   "cell_type": "code",
   "execution_count": null,
   "metadata": {},
   "outputs": [],
   "source": [
    "# Hyperparameter\n",
    "TARGET_FRAME = 1300"
   ]
  },
  {
   "cell_type": "code",
   "execution_count": null,
   "metadata": {},
   "outputs": [],
   "source": [
    "from app.utils.visualize import draw_bbox, get_unique_color\n",
    "from worker.motworker.utils import crop_image"
   ]
  },
  {
   "cell_type": "code",
   "execution_count": null,
   "metadata": {
    "scrolled": true
   },
   "outputs": [],
   "source": [
    "pfiles = list(profiles.keys())\n",
    "\n",
    "# Visualization\n",
    "fig, axes = plt.subplots(nrows=1, ncols=len(profiles), figsize=(16, 8))\n",
    "\n",
    "# Show detected people\n",
    "for idx, pfile in enumerate(pfiles):\n",
    "    # Jump to target frame\n",
    "    profiles[pfile]['capture'].set(cv2.CAP_PROP_POS_FRAMES, TARGET_FRAME)\n",
    "    frame = profiles[pfile]['capture'].read()[1]\n",
    "    frame = cv2.cvtColor(frame, cv2.COLOR_BGR2RGB)\n",
    "\n",
    "    # Draw bbox\n",
    "    for bbox in profiles[pfile]['profile'][TARGET_FRAME]:\n",
    "        box = np.array([ int(v) for v in bbox ])\n",
    "        draw_bbox(frame, box, color=(255, 0, 0))\n",
    "\n",
    "    # Show frame with bbox\n",
    "    axes[idx].imshow(frame)\n",
    "    axes[idx].set_title(osp.basename(pfile))\n",
    "    axes[idx].set_axis_off()\n",
    "    \n",
    "plt.tight_layout()"
   ]
  },
  {
   "cell_type": "markdown",
   "metadata": {},
   "source": [
    "## Show cropped images"
   ]
  },
  {
   "cell_type": "code",
   "execution_count": null,
   "metadata": {},
   "outputs": [],
   "source": [
    "import re\n",
    "\n",
    "pfiles = list(profiles.keys())\n",
    "camera_regex = re.compile(r'.+_c(?P<cid>\\d\\d)_.+')\n",
    "\n",
    "# Crop images\n",
    "camera_people = {}\n",
    "for idx, pfile in enumerate(pfiles):\n",
    "    # Jump to target frame\n",
    "    profiles[pfile]['capture'].set(cv2.CAP_PROP_POS_FRAMES, TARGET_FRAME)\n",
    "    frame = profiles[pfile]['capture'].read()[1]\n",
    "    frame = cv2.cvtColor(frame, cv2.COLOR_BGR2RGB)\n",
    "    \n",
    "    # Extract Camera ID\n",
    "    cid = int(camera_regex.match(osp.basename(pfile)).group('cid'))\n",
    "    \n",
    "    # Crop person images\n",
    "    crop_imgs = []\n",
    "    for bbox in profiles[pfile]['profile'][TARGET_FRAME]:\n",
    "        crop_img = crop_image(frame, bbox)\n",
    "        crop_imgs.append(crop_img)\n",
    "\n",
    "    camera_people[cid] = crop_imgs\n",
    "    \n",
    "# Visualization\n",
    "fig, axes = plt.subplots(nrows=len(camera_people),\n",
    "                         ncols=max([ len(p) for p in camera_people.values() ]),\n",
    "                         figsize=(8, 8))\n",
    "\n",
    "for i, (cid, imgs) in enumerate(camera_people.items()):\n",
    "    # Show cropped images\n",
    "    color = get_unique_color(cid)\n",
    "    for j, img in enumerate(imgs):\n",
    "        draw_bbox(img, (0, 0, img.shape[1], img.shape[0]) ,color=color, thickness=5)\n",
    "        axes[i][j].imshow(img)\n",
    "        axes[i][j].set_axis_off()\n",
    "    \n",
    "plt.tight_layout()"
   ]
  },
  {
   "cell_type": "markdown",
   "metadata": {},
   "source": [
    "## Map Person to embedding space"
   ]
  },
  {
   "cell_type": "code",
   "execution_count": null,
   "metadata": {},
   "outputs": [],
   "source": [
    "from colormap import rgb2hex\n",
    "from sklearn.decomposition import PCA\n",
    "from sklearn.cluster import KMeans\n",
    "from worker.recognition import get_recognizer"
   ]
  },
  {
   "cell_type": "code",
   "execution_count": null,
   "metadata": {},
   "outputs": [],
   "source": [
    "# Load recognizer model (ReID model)\n",
    "recognizer = get_recognizer(\"Resnet18\", { 'device': \"cuda\" })"
   ]
  },
  {
   "cell_type": "code",
   "execution_count": null,
   "metadata": {},
   "outputs": [],
   "source": [
    "pfiles = list(profiles.keys())\n",
    "camera_regex = re.compile(r'.+_c(?P<cid>\\d\\d)_.+')\n",
    "\n",
    "# Copmute embedding\n",
    "all_crop_imgs = []\n",
    "all_embeddings = []\n",
    "camera_embeddings = {}\n",
    "for idx, pfile in enumerate(pfiles):\n",
    "    # Jump to target frame\n",
    "    profiles[pfile]['capture'].set(cv2.CAP_PROP_POS_FRAMES, TARGET_FRAME)\n",
    "    frame = profiles[pfile]['capture'].read()[1]\n",
    "    \n",
    "    # Extract Camera ID\n",
    "    cid = int(camera_regex.match(osp.basename(pfile)).group('cid'))\n",
    "    \n",
    "    # Compute embedding of each person\n",
    "    crop_imgs = []\n",
    "    for bbox in profiles[pfile]['profile'][TARGET_FRAME]:\n",
    "        crop_img = crop_image(frame, bbox)\n",
    "        crop_imgs.append(crop_img)\n",
    "        all_crop_imgs.append(crop_img)\n",
    "    \n",
    "    # Record embeddings\n",
    "    embeddings_ = recognizer(crop_imgs)\n",
    "    all_embeddings.append(embeddings_)\n",
    "    camera_embeddings[cid] = embeddings_"
   ]
  },
  {
   "cell_type": "code",
   "execution_count": null,
   "metadata": {
    "scrolled": false
   },
   "outputs": [],
   "source": [
    "# Visualization Embedding\n",
    "# ===============================================================\n",
    "fig, axes = plt.subplots(nrows=1, ncols=2, figsize=(16, 8))\n",
    "\n",
    "# Dimension reduction to 2D space by PCA\n",
    "embeddings = np.concatenate(all_embeddings)\n",
    "pca = PCA(n_components=2)\n",
    "pca = pca.fit(embeddings)\n",
    "\n",
    "# Visualize 2D embedding space with camera id label\n",
    "for i, (cid, embeddings_) in enumerate(camera_embeddings.items()):\n",
    "    color = get_unique_color(cid)\n",
    "    reduced = pca.transform(embeddings_)\n",
    "    axes[0].scatter(x=reduced[:, 0], y=reduced[:, 1],\n",
    "                s=150, c=rgb2hex(*color), alpha=0.7,\n",
    "                label=\"c{}\".format(cid))\n",
    "    axes[0].legend()\n",
    "    axes[0].set_title(\"Camera Label\")\n",
    "\n",
    "# Visualize 2D embedding space with person id labels (K-means label)\n",
    "K = max([ len(embeddings_) for embeddings_ in camera_embeddings.values() ])\n",
    "kmeans = KMeans(n_clusters=K)\n",
    "kmeans = kmeans.fit(pca.transform(embeddings))\n",
    "\n",
    "reduced = pca.transform(embeddings)\n",
    "labels = kmeans.predict(reduced)\n",
    "\n",
    "for label in set(labels):\n",
    "    color = get_unique_color(label)\n",
    "    indices = np.where(np.array(labels) == label)[0]\n",
    "    target_embeddings = reduced[indices]\n",
    "    axes[1].scatter(target_embeddings[:, 0], target_embeddings[:, 1],\n",
    "                s=150, c=rgb2hex(*color), alpha=0.7,\n",
    "                label=\"p{}\".format(label))\n",
    "    axes[1].legend()\n",
    "    axes[1].set_title(\"KMeans label\")\n",
    "\n",
    "plt.tight_layout()"
   ]
  },
  {
   "cell_type": "code",
   "execution_count": null,
   "metadata": {},
   "outputs": [],
   "source": [
    "# Show original crop images with kmeans clustering\n",
    "n_camera = len(profiles)\n",
    "n_people = max([ len(embeddings_) for embeddings_ in camera_embeddings.values() ])\n",
    "\n",
    "fig, axes = plt.subplots(nrows=n_people, ncols=n_camera, figsize=(8, 8))\n",
    "for i, label in enumerate(set(labels)):\n",
    "    color = get_unique_color(label)\n",
    "    indices = np.where(np.array(labels) == label)[0]\n",
    "    \n",
    "    for j, pidx in enumerate(indices):\n",
    "        crop_img = all_crop_imgs[pidx]\n",
    "        crop_img = cv2.cvtColor(crop_img, cv2.COLOR_BGR2RGB)\n",
    "        draw_bbox(crop_img, (0, 0, crop_img.shape[1], crop_img.shape[0]), color=color, thickness=5)\n",
    "        axes[i][j].imshow(crop_img)\n",
    "        axes[i][j].set_axis_off()\n",
    "        \n",
    "plt.tight_layout()"
   ]
  },
  {
   "cell_type": "markdown",
   "metadata": {},
   "source": [
    "## Apply graph message passing to refine embedding"
   ]
  },
  {
   "cell_type": "code",
   "execution_count": null,
   "metadata": {},
   "outputs": [],
   "source": [
    "# Node embedding\n",
    "nodes = np.matrix(embeddings)\n",
    "\n",
    "# Adjancency matrix\n",
    "A = np.dot(embeddings, embeddings.T)\n",
    "A[A > 0.7] = 1\n",
    "A[A < 0.7] = 0\n",
    "A = np.matrix(A)\n",
    "print(\"A\\n\", A)\n",
    "\n",
    "# Degree matrix\n",
    "D = np.matrix(np.diag(np.asarray(A.sum(axis=1)).ravel()))\n",
    "print(\"D\\n\", D)"
   ]
  },
  {
   "cell_type": "code",
   "execution_count": null,
   "metadata": {},
   "outputs": [],
   "source": [
    "# Run T times message passing\n",
    "T = 3\n",
    "\n",
    "# Graph message propagation formula: X = D^{-1}*A*X\n",
    "X = nodes.copy()\n",
    "for i in range(T):\n",
    "    X = (D**-1)*A*X\n",
    "    \n",
    "# Refined embeddings\n",
    "refined_embeddings = X"
   ]
  },
  {
   "cell_type": "code",
   "execution_count": null,
   "metadata": {},
   "outputs": [],
   "source": [
    "# Visualization Embedding\n",
    "# ===============================================================\n",
    "fig, axes = plt.subplots(nrows=1, ncols=2, figsize=(16, 8))\n",
    "\n",
    "# Dimension reduction to 2D space by PCA\n",
    "pca = PCA(n_components=2)\n",
    "pca = pca.fit(refined_embeddings)\n",
    "\n",
    "# Visualize 2D embedding space with camera id label\n",
    "for i, (cid, embeddings_) in enumerate(camera_embeddings.items()):\n",
    "    color = get_unique_color(cid)\n",
    "    reduced = pca.transform(embeddings_)\n",
    "    axes[0].scatter(x=reduced[:, 0], y=reduced[:, 1],\n",
    "                s=150, c=rgb2hex(*color), alpha=0.7,\n",
    "                label=\"c{}\".format(cid))\n",
    "    axes[0].legend()\n",
    "    axes[0].set_title(\"Camera Label\")\n",
    "\n",
    "# Visualize 2D embedding space with person id labels (K-means label)\n",
    "K = max([ len(embeddings_) for embeddings_ in camera_embeddings.values() ])\n",
    "kmeans = KMeans(n_clusters=K)\n",
    "kmeans = kmeans.fit(pca.transform(refined_embeddings))\n",
    "\n",
    "reduced = pca.transform(refined_embeddings)\n",
    "labels = kmeans.predict(reduced)\n",
    "\n",
    "for label in set(labels):\n",
    "    color = get_unique_color(label)\n",
    "    indices = np.where(np.array(labels) == label)[0]\n",
    "    target_refined_embeddings = reduced[indices]\n",
    "    axes[1].scatter(target_refined_embeddings[:, 0], target_refined_embeddings[:, 1],\n",
    "                s=150, c=rgb2hex(*color), alpha=0.7,\n",
    "                label=\"p{}\".format(label))\n",
    "    axes[1].legend()\n",
    "    axes[1].set_title(\"Message Passing with KMeans label\")\n",
    "\n",
    "plt.tight_layout()"
   ]
  },
  {
   "cell_type": "code",
   "execution_count": null,
   "metadata": {},
   "outputs": [],
   "source": [
    "# Show original crop images with kmeans clustering\n",
    "n_camera = len(profiles)\n",
    "n_people = max([ len(embeddings_) for embeddings_ in camera_embeddings.values() ])\n",
    "\n",
    "fig, axes = plt.subplots(nrows=n_people, ncols=n_camera, figsize=(8, 8))\n",
    "for i, label in enumerate(set(labels)):\n",
    "    color = get_unique_color(label)\n",
    "    indices = np.where(np.array(labels) == label)[0]\n",
    "    \n",
    "    for j, pidx in enumerate(indices):\n",
    "        crop_img = all_crop_imgs[pidx]\n",
    "        crop_img = cv2.cvtColor(crop_img, cv2.COLOR_BGR2RGB)\n",
    "        draw_bbox(crop_img, (0, 0, crop_img.shape[1], crop_img.shape[0]), color=color, thickness=5)\n",
    "        axes[i][j].imshow(crop_img)\n",
    "        axes[i][j].set_axis_off()\n",
    "        \n",
    "plt.tight_layout()"
   ]
  }
 ],
 "metadata": {
  "hide_input": false,
  "kernelspec": {
   "display_name": "Python 3",
   "language": "python",
   "name": "python3"
  },
  "language_info": {
   "codemirror_mode": {
    "name": "ipython",
    "version": 3
   },
   "file_extension": ".py",
   "mimetype": "text/x-python",
   "name": "python",
   "nbconvert_exporter": "python",
   "pygments_lexer": "ipython3",
   "version": "3.7.1"
  },
  "toc": {
   "base_numbering": 1,
   "nav_menu": {},
   "number_sections": true,
   "sideBar": true,
   "skip_h1_title": false,
   "title_cell": "Table of Contents",
   "title_sidebar": "Contents",
   "toc_cell": false,
   "toc_position": {},
   "toc_section_display": true,
   "toc_window_display": true
  },
  "varInspector": {
   "cols": {
    "lenName": 16,
    "lenType": 16,
    "lenVar": 40
   },
   "kernels_config": {
    "python": {
     "delete_cmd_postfix": "",
     "delete_cmd_prefix": "del ",
     "library": "var_list.py",
     "varRefreshCmd": "print(var_dic_list())"
    },
    "r": {
     "delete_cmd_postfix": ") ",
     "delete_cmd_prefix": "rm(",
     "library": "var_list.r",
     "varRefreshCmd": "cat(var_dic_list()) "
    }
   },
   "types_to_exclude": [
    "module",
    "function",
    "builtin_function_or_method",
    "instance",
    "_Feature"
   ],
   "window_display": false
  }
 },
 "nbformat": 4,
 "nbformat_minor": 4
}
